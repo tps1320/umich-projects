{
 "cells": [
  {
   "cell_type": "code",
   "execution_count": null,
   "metadata": {},
   "outputs": [],
   "source": [
    "BASE_DIR = '/home/thanuja/Dropbox/coursera/Milestone1/data/'"
   ]
  },
  {
   "cell_type": "code",
   "execution_count": null,
   "metadata": {},
   "outputs": [],
   "source": [
    "#pyspark intitialization\n",
    "\n",
    "from pyspark.sql import SparkSession\n",
    "from pyspark.sql import functions as F\n",
    "from pyspark.sql.types import StructType, StructField, StringType, IntegerType, FloatType\n",
    "from scipy.stats import pearsonr\n",
    "import warnings\n",
    "import altair as alt\n",
    "import numpy as np\n",
    "\n",
    "warnings.filterwarnings('ignore')\n",
    "spark = SparkSession \\\n",
    "    .builder \\\n",
    "    .master(\"local[*]\") \\\n",
    "    .appName('org queries') \\\n",
    "    .config(\"spark.driver.memory\", \"8g\")\\\n",
    "    .getOrCreate() \n",
    "\n",
    "sc = spark.sparkContext"
   ]
  },
  {
   "cell_type": "code",
   "execution_count": null,
   "metadata": {},
   "outputs": [],
   "source": [
    "#2019 payments file\n",
    "general_payments_df = spark.read.option(\"header\",True)\\\n",
    "    .csv(BASE_DIR + 'OP_DTL_GNRL_PGYR2019_P06302021.csv')\n",
    "\n",
    "\n",
    "hcp_payments_df = general_payments_df.where(\n",
    "    F.col('Covered_Recipient_Type') == 'Covered Recipient Physician')\\\n",
    "    .select(F.col('Physician_Profile_ID'),\n",
    "           F.col('Physician_First_Name'),\n",
    "           F.col('Physician_Middle_Name'),\n",
    "           F.col('Physician_Last_Name'),\n",
    "           F.col('Recipient_Primary_Business_Street_Address_Line1'),\n",
    "           F.col('Recipient_State'),\n",
    "           F.col('Recipient_City'),\n",
    "           F.col('Recipient_Zip_Code'),\n",
    "           F.col('Total_Amount_of_Payment_USDollars'))\n",
    "# changing payment column to double\n",
    "hcp_payments_df = hcp_payments_df.withColumn(\"Total_Amount_of_Payment_USDollars\",hcp_payments_df[\"Total_Amount_of_Payment_USDollars\"].cast('double'))\n",
    "#sum payment column for each healthcare provider\n",
    "hcp_payments_df = hcp_payments_df.groupBy('Physician_Profile_ID').agg(F.sum('Total_Amount_of_Payment_USDollars').alias(\"sum_payment\"))\n",
    "\n",
    "#mapping file\n",
    "ppi_npi_matches_df_schema = StructType([\n",
    "    StructField(\"FirstName\", StringType(), True),\n",
    "    StructField(\"LastName\", StringType(), True),\n",
    "    StructField(\"NPI\", StringType(), True),\n",
    "    StructField(\"Physician_Profile_ID\", StringType(), True),\n",
    "    StructField(\"Score\", FloatType(), True),\n",
    "    StructField(\"NatAddr\", StringType(), True),\n",
    "    StructField(\"AddrScore\", FloatType(), True),\n",
    "    StructField(\"SupplAddr\", StringType(), True),\n",
    "    StructField(\"NatStateCity\", StringType(), True),\n",
    "    StructField(\"StateCityScore\", FloatType(), True),\n",
    "    StructField(\"SupplStateCity\", StringType(), True),\n",
    "    StructField(\"NatTaxonomy\", StringType(), True),\n",
    "    StructField(\"TaxonomyScore\", FloatType(), True),\n",
    "    StructField(\"SupplTaxonomy\", StringType(), True),\n",
    "    StructField(\"NatMiddleName\", StringType(), True),\n",
    "    StructField(\"MiddleNameScore\", FloatType(), True),\n",
    "    StructField(\"SupplMiddleName\", StringType(), True)])\n",
    "\n",
    "ppi_npi_matches_df = spark.read\\\n",
    "    .csv(BASE_DIR + 'data_processing/matched_out/hcp_matches.csv',header=False, schema=ppi_npi_matches_df_schema)\n",
    "\n",
    "# join payments file with mapping file to filter out physicians that don't have payment information\n",
    "\n",
    "hcp_payments_df = hcp_payments_df.join(on='Physician_Profile_ID', other=ppi_npi_matches_df)\n",
    "\n",
    "\n",
    "\n",
    "#We obtain the organization for each physican from PhysicianComparePhoneNumberFile.csv\n",
    "\n",
    "npi_df = spark.read.option(\"header\",True)\\\n",
    "    .csv(BASE_DIR + 'PhysicianComparePhoneNumberFile.csv')\\\n",
    "    .withColumnRenamed(\" NPI\", \"NPI\")\\\n",
    "    .withColumnRenamed(\" org_pac_id\", \"org_pac_id\")\\\n",
    "    .withColumnRenamed(' phn_numbr', 'phn_numbr')\\\n",
    "    .withColumnRenamed(\" frst_nm\", \"f_name\")\\\n",
    "    .withColumnRenamed(\" lst_nm\", \"l_name\")\\\n",
    "    .withColumnRenamed(\" mid_nm\", \"m_name\")\\\n",
    "    .withColumnRenamed(\" adr_ln_1\", \"adr_ln_1\")\\\n",
    "    .withColumnRenamed(\" adr_ln_2\", \"adr_ln_2\")\\\n",
    "    .withColumnRenamed(\" pri_spec\", \"pri_spec\")\\\n",
    "    .withColumnRenamed(\" st\", \"st\")\\\n",
    "    .withColumnRenamed(\" cty\", \"cty\")\\\n",
    "    .withColumnRenamed(\" zip\", \"zip\")\n",
    "\n",
    "#joining the organization with payments and physican information\n",
    "hcp_cms_org_payments_df = hcp_payments_df.join(on='NPI', other=npi_df)\n",
    "hcp_cms_org_payments_df.show(truncate=False)\n",
    "hcp_cms_org_payments_df.columns\n"
   ]
  },
  {
   "cell_type": "code",
   "execution_count": null,
   "metadata": {},
   "outputs": [],
   "source": [
    "#selecting only organization and total payment information from the merged file\n",
    "\n",
    "hcp_cms_org_payments_df = hcp_cms_org_payments_df.select(F.col('org_pac_id'),F.col('sum_payment'))\n",
    "hcp_cms_org_payments_df = hcp_cms_org_payments_df.dropna()\n",
    "hcp_cms_org_payments_df.show()\n",
    "\n",
    "# summing payments at organization level since we only have performance ratings for organization in the cms website\n",
    "cms_org_payments_df = hcp_cms_org_payments_df.groupBy('org_pac_id').agg(F.count('org_pac_id').alias('count_of_doctors'),\n",
    "                                                               F.sum('sum_payment').alias('payment_amount'))\n",
    "#we normalize payment column by number of doctors. This is done so that bigger organizations may have more doctors receiving payments.\n",
    "cms_org_payments_df = cms_org_payments_df.withColumn(\"payment_normalized\", (F.col(\"payment_amount\") / F.col(\"count_of_doctors\")))\n",
    "#org_payments_df.printSchema()"
   ]
  },
  {
   "cell_type": "code",
   "execution_count": null,
   "metadata": {},
   "outputs": [],
   "source": [
    "# performance ratings file\n",
    "cms_org_ratings_df = spark.read.options(header='True').csv(BASE_DIR + 'grp_public_reporting.csv')\n",
    "\n",
    "#remove cols not used in our analysis\n",
    "remove_cols = [' ACO_ID_1',' ACO_nm_1',' ACO_ID_2',' ACO_nm_2', ' ACO_ID_3', ' ACO_nm_3',' attestation_value']\n",
    "\n",
    "cms_org_ratings_df = cms_org_ratings_df.drop(*remove_cols)\n",
    "\n",
    "#rename columns to remove space and change datatype for float cols to float\n",
    "cms_org_ratings_df = cms_org_ratings_df.withColumnRenamed(' prf_rate', 'prf_rate')\\\n",
    "                               .withColumnRenamed(' measure_cd', 'measure_cd')\\\n",
    "                               .withColumnRenamed(' patient_count', 'patient_count')\\\n",
    "                               .withColumnRenamed(' star_value', 'star_value')\\\n",
    "                               .withColumnRenamed(' star_value', 'star_value')\\\n",
    "                               .withColumnRenamed(' five_star_benchmark', 'five_star_benchmark')\\\n",
    "                               .withColumnRenamed(' measure_title', 'measure_title')\\\n",
    "                               .withColumnRenamed(' org_PAC_ID', 'org_pac_id')\n",
    "\n",
    "float_cols = ['prf_rate','patient_count','star_value','five_star_benchmark']\n",
    "\n",
    "#drop rows if all values in score cols have null values\n",
    "cms_org_ratings_df = cms_org_ratings_df.dropna(how='all',subset=float_cols)\n",
    "\n",
    "#cast float_cols to float\n",
    "for col_name in float_cols:\n",
    "    cms_org_ratings_df = cms_org_ratings_df.withColumn(col_name, F.col(col_name).cast('float'))\n",
    "cms_org_ratings_df.show()\n",
    "print(cms_org_ratings_df.columns)"
   ]
  },
  {
   "cell_type": "code",
   "execution_count": null,
   "metadata": {},
   "outputs": [],
   "source": [
    "#join org_payments and org_ratings to merge payments data and perf ratings data at organization level\n",
    "cms_org_ratings_payments_df = cms_org_ratings_df.join(on='org_pac_id', other=cms_org_payments_df)\n",
    "cms_org_ratings_payments_df.show(truncate=False)"
   ]
  },
  {
   "cell_type": "code",
   "execution_count": null,
   "metadata": {},
   "outputs": [],
   "source": [
    "cms_org_ratings_payments_df.dtypes"
   ]
  },
  {
   "cell_type": "code",
   "execution_count": null,
   "metadata": {},
   "outputs": [],
   "source": [
    "#covert pyspark df to pandas df to use for our visualizations\n",
    "cms_org_ratings_payments_pddf = cms_org_ratings_payments_df.toPandas()\n",
    "#disable the altair error when dataset rows is > 5000\n",
    "alt.data_transformers.disable_max_rows()\n",
    "\n",
    "#payments are in logarithmic scale to account for outliers\n",
    "cms_payments_ratings_chart = alt.Chart(cms_org_ratings_payments_pddf).mark_point().encode(\n",
    "    x=alt.X('payment_normalized:Q',scale=alt.Scale(type='log')),\n",
    "    y=alt.Y('prf_rate:Q')\n",
    ")\n",
    "cms_payments_ratings_chart\n",
    "#(payments_ratings_chart).properties(width=800,height=600)"
   ]
  },
  {
   "cell_type": "code",
   "execution_count": null,
   "metadata": {},
   "outputs": [],
   "source": [
    "cms_payments_ratings_chart.facet(\n",
    "    'measure_cd:N',\n",
    "    columns=2\n",
    ")"
   ]
  },
  {
   "cell_type": "code",
   "execution_count": null,
   "metadata": {},
   "outputs": [],
   "source": [
    "float_cols_corr = cms_org_ratings_payments_pddf.corr().reset_index()\n",
    "float_cols_corr"
   ]
  },
  {
   "cell_type": "code",
   "execution_count": null,
   "metadata": {},
   "outputs": [],
   "source": [
    "corrs_by_measurecode_df = cms_org_ratings_payments_pddf.groupby('measure_cd')[['prf_rate','star_value','payment_amount','payment_normalized']].corr()\n",
    "corrs_by_measurecode_df"
   ]
  },
  {
   "cell_type": "code",
   "execution_count": null,
   "metadata": {},
   "outputs": [],
   "source": [
    "#https://stackoverflow.com/questions/25571882/pandas-columns-correlation-with-statistical-significance\n",
    "cms_org_ratings_by_code_df = cms_org_ratings_payments_pddf.groupby('measure_cd')[['prf_rate','star_value','payment_amount','payment_normalized']]\n",
    "pvals_by_measurecode_df = cms_org_ratings_by_code_df.corr(method=lambda x, y: pearsonr(x, y)[1])\n",
    "pvals_as_asteriks = pvals_by_measurecode_df.applymap(lambda x: ''.join(['*' for t in [0.01,0.05,0.1] if x<=t]))\n",
    "corrs_by_measurecode_df = corrs_by_measurecode_df.round(5).astype(str)\n",
    "(corrs_by_measurecode_df + pvals_as_asteriks).reset_index()"
   ]
  },
  {
   "cell_type": "code",
   "execution_count": null,
   "metadata": {},
   "outputs": [],
   "source": [
    "'''getting measure_title for interesting measures based on above analysis'''\n",
    "#Radiation Consideration for Adult CT: Utilization of Dose Lowering Techniques\n",
    "cms_org_ratings_payments_df.filter((cms_org_ratings_payments_df['measure_cd']  == \"MIPS_GRP_436_overall\")).show(truncate=False)\n",
    "#Dementia: Education and Support of Caregivers for Patients with Dementia\n",
    "cms_org_ratings_payments_df.filter((cms_org_ratings_payments_df['measure_cd']  == \"MIPS_GRP_288_overall\")).show(truncate=False)\n",
    "#MIPS_GRP_277_overall|Sleep Apnea: Severity Assessment at Initial Diagnosis\n",
    "cms_org_ratings_payments_df.filter((cms_org_ratings_payments_df['measure_cd']  == \"MIPS_GRP_277_overall\")).show(truncate=False)\n",
    "#Appropriate Foley catheter use in the emergency department\n",
    "cms_org_ratings_payments_df.filter((cms_org_ratings_payments_df['measure_cd']  == \"QCDR_GRP_ACEP31_overall\")).show(truncate=False)\n",
    "#Rheumatoid Arthritis (RA): Tuberculosis Screening\n",
    "cms_org_ratings_payments_df.filter((cms_org_ratings_payments_df['measure_cd']  == \"MIPS_GRP_176_overall\")).show(truncate=False)\n",
    "#Parkinson's Disease: Cognitive Impairment or Dysfunction Assessment for Patients with Parkinson's Disease\n",
    "cms_org_ratings_payments_df.filter((cms_org_ratings_payments_df['measure_cd']  == \"MIPS_GRP_291_overall\")).show(truncate=False)\n",
    "#Appropriate management of anticoagulation in the peri-procedural period rate - EGD\n",
    "cms_org_ratings_payments_df.filter((cms_org_ratings_payments_df['measure_cd']  == \"QCDR_GRP_GIQIC10_overall\")).show(truncate=False)\n",
    "#Dementia: Functional Status Assessment\n",
    "cms_org_ratings_payments_df.filter((cms_org_ratings_payments_df['measure_cd']  == \"MIPS_GRP_282_overall\")).show(truncate=False)\n",
    "#Parkinson's Disease: Rehabilitative Therapy Options\n",
    "cms_org_ratings_payments_df.filter((cms_org_ratings_payments_df['measure_cd']  == \"MIPS_GRP_293_overall\")).show(truncate=False)\n",
    "cms_org_ratings_payments_df.where(col('measure_title').like(\"%Elderly%\")).show()\n",
    "#MIPS_GRP_238_overall"
   ]
  },
  {
   "cell_type": "code",
   "execution_count": null,
   "metadata": {},
   "outputs": [],
   "source": [
    " cms_org_ratings_payments_pddf.to_csv(BASE_DIR + 'data_processing/ratings/cms_org_payments_ratings.csv', header=True, index=False)"
   ]
  },
  {
   "cell_type": "code",
   "execution_count": null,
   "metadata": {},
   "outputs": [],
   "source": []
  }
 ],
 "metadata": {
  "kernelspec": {
   "display_name": "Python 3 (ipykernel)",
   "language": "python",
   "name": "python3"
  },
  "language_info": {
   "codemirror_mode": {
    "name": "ipython",
    "version": 3
   },
   "file_extension": ".py",
   "mimetype": "text/x-python",
   "name": "python",
   "nbconvert_exporter": "python",
   "pygments_lexer": "ipython3",
   "version": "3.10.10"
  }
 },
 "nbformat": 4,
 "nbformat_minor": 4
}
