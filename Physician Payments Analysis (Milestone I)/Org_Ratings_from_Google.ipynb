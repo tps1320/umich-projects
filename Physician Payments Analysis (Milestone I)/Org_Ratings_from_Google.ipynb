{
 "cells": [
  {
   "cell_type": "code",
   "execution_count": null,
   "metadata": {},
   "outputs": [],
   "source": [
    "BASE_DIR='/home/thanuja/Dropbox/coursera/Milestone1/data/'"
   ]
  },
  {
   "cell_type": "code",
   "execution_count": null,
   "metadata": {},
   "outputs": [],
   "source": [
    "import pandas as pd\n",
    "from IPython.display import Image\n",
    "\n",
    "#pyspark intitialization\n",
    "\n",
    "from pyspark.sql import SparkSession\n",
    "from pyspark.sql import functions as F\n",
    "from pyspark.sql.types import StructType, StructField, StringType, IntegerType, FloatType\n",
    "from scipy.stats import pearsonr\n",
    "from pyspark.sql.functions import udf\n",
    "import warnings\n",
    "import altair as alt\n",
    "import numpy as np\n",
    "\n",
    "warnings.filterwarnings('ignore')\n",
    "spark = SparkSession \\\n",
    "    .builder \\\n",
    "    .master(\"local[*]\") \\\n",
    "    .appName('org queries') \\\n",
    "    .config(\"spark.driver.memory\", \"8g\")\\\n",
    "    .getOrCreate() \n",
    "\n",
    "sc = spark.sparkContext"
   ]
  },
  {
   "cell_type": "code",
   "execution_count": null,
   "metadata": {},
   "outputs": [],
   "source": [
    "google_org_ratings_df = spark.read.options(header='True').csv(BASE_DIR + 'google_org_ratings.csv')\n",
    "float_cols = ['num_reviews','avg_rating','max_rating']\n",
    "for col_name in float_cols:\n",
    "    google_org_ratings_df = google_org_ratings_df.withColumn(col_name, F.col(col_name).cast('float'))"
   ]
  },
  {
   "cell_type": "code",
   "execution_count": null,
   "metadata": {},
   "outputs": [],
   "source": [
    "google_org_ratings_df.head(10)"
   ]
  },
  {
   "cell_type": "code",
   "execution_count": null,
   "metadata": {},
   "outputs": [],
   "source": [
    "'''\n",
    "C=10 -> confidence in the prior\n",
    "m=mean(all reviews)\n",
    "rating=(C*m + curr_rating * curr_num_reviews) / (C + curr_num_reviews)\n",
    "'''\n",
    "\n",
    "bayesian_formula_img = BASE_DIR + \"bayesian_formula.png\"\n",
    "Image(filename = bayesian_formula_img, width=500, height=500)\n"
   ]
  },
  {
   "cell_type": "code",
   "execution_count": null,
   "metadata": {},
   "outputs": [],
   "source": [
    "c = 5\n",
    "m = google_org_ratings_df.agg(F.avg('avg_rating').alias(\"agg\")).collect()[0]['agg']\n",
    "\n",
    "def get_adjusted_rating(avg_rating,num_reviews):\n",
    "    adjusted = (c * m + avg_rating * num_reviews) / (c + num_reviews)\n",
    "    return adjusted\n",
    "\n",
    "ratings_adjusted_udf = udf(get_adjusted_rating, FloatType())\n",
    "google_org_ratings_df = google_org_ratings_df.withColumn(\"adjusted_ratings\", ratings_adjusted_udf('avg_rating', 'num_reviews'))\n",
    "google_org_ratings_df.show()\n",
    "google_org_ratings_df.dtypes"
   ]
  },
  {
   "cell_type": "code",
   "execution_count": null,
   "metadata": {},
   "outputs": [],
   "source": [
    "cms_org_ratings_payments_schema = StructType([\n",
    "    StructField(\"org_pac_id\", StringType(), True),\n",
    "    StructField(\"org_nm\", StringType(), True),\n",
    "    StructField(\"measure_cd\", StringType(), True),\n",
    "    StructField(\"measure_title\", StringType(), True),\n",
    "    StructField(\"invs_msr\", StringType(), True),\n",
    "    StructField(\"prf_rate\", FloatType(), True),\n",
    "    StructField(\"patient_count\", FloatType(), True),\n",
    "    StructField(\"star_value\", FloatType(), True),\n",
    "    StructField(\"five_star_benchmark\", FloatType(), True),\n",
    "    StructField(\"collection_type\", StringType(), True),\n",
    "    StructField(\"CCXP_ind\", StringType(), True),\n",
    "    StructField(\"count_of_doctors\", FloatType(), True),\n",
    "    StructField(\"payment_amount\", FloatType(), True),\n",
    "    StructField(\"payment_normalized\", FloatType(), True)])\n",
    "cms_org_ratings_payments_df = spark.read.options(header='True').csv(BASE_DIR + 'data_processing/ratings/cms_org_payments_ratings.csv',schema=cms_org_ratings_payments_schema)\n",
    "cms_org_ratings_payments_df.dtypes\n",
    "\n",
    "cms_org_ratings_payments_df = cms_org_ratings_payments_df.groupBy(\"org_pac_id\", \"org_nm\")\\\n",
    "   .agg(F.avg(\"prf_rate\").alias(\"prf_rate\"),\n",
    "      F.avg(\"star_value\").alias(\"star_value\"),\n",
    "      F.avg(\"count_of_doctors\").alias(\"count_of_doctors\"),\n",
    "      F.avg(\"payment_amount\").alias(\"payment_amount\"),\n",
    "     F.avg(\"payment_normalized\").alias(\"payment_normalized\"))\n",
    "\n",
    "cms_org_ratings_payments_df.show()"
   ]
  },
  {
   "cell_type": "code",
   "execution_count": null,
   "metadata": {},
   "outputs": [],
   "source": [
    "cms_google_org_ratings_payments_df = cms_org_ratings_payments_df.join(on='org_pac_id', other=google_org_ratings_df)\n",
    "#cms_google_org_ratings_payments_df.show(truncate=False)\n",
    "#cms_google_org_ratings_payments_df.groupBy(\"org_pac_id\").count().where(\"count > 1\").drop(\"count\").show()"
   ]
  },
  {
   "cell_type": "code",
   "execution_count": null,
   "metadata": {},
   "outputs": [],
   "source": [
    "#covert pyspark df to pandas df to use for our visualizations\n",
    "cms_google_org_ratings_payments_pddf = cms_google_org_ratings_payments_df.toPandas()\n",
    "plot_pddf = cms_google_org_ratings_payments_pddf.copy()\n",
    "plot_pddf['payment_log'] = np.log10(plot_pddf['payment_normalized'])\n",
    "plot_pddf = plot_pddf[plot_pddf['payment_normalized'] > 10]\n",
    "plot_pddf = plot_pddf[plot_pddf['payment_normalized'] < 1000000]\n",
    "#disable the altair error when dataset rows is > 5000\n",
    "#alt.data_transformers.disable_max_rows()\n",
    "\n",
    "#payments are in logarithmic scale to account for outliers\n",
    "payments_mips_ratings_chart = alt.Chart(plot_pddf.sample(2000)).mark_point().encode(\n",
    "    x=alt.X('payment_normalized:Q', title='Payment per Physician (USD)',\n",
    "            scale=alt.Scale(type='log', domain=[10, 1000000]),\n",
    "            axis=alt.Axis(titleColor='orange')),\n",
    "    y=alt.Y('prf_rate:Q', title='Average MIPS Performance Rating',\n",
    "            scale=alt.Scale(domain=[0, 100]),\n",
    "            axis=alt.Axis(titleColor='green'))\n",
    ").properties(width=200,height=200)\n",
    "payments_mips_ratings_chart\n",
    "#(payments_ratings_chart).properties(width=800,height=600)\n",
    "#cms_google_org_ratings_payments_pddf.dtypes"
   ]
  },
  {
   "cell_type": "code",
   "execution_count": null,
   "metadata": {},
   "outputs": [],
   "source": [
    "cms_google_org_ratings_payments_pddf.corr(\"spearman\")\n",
    "print(cms_google_org_ratings_payments_pddf['payment_normalized'].max())\n",
    "print(cms_google_org_ratings_payments_pddf['payment_normalized'].min())"
   ]
  },
  {
   "cell_type": "code",
   "execution_count": null,
   "metadata": {},
   "outputs": [],
   "source": [
    "#disable the altair error when dataset rows is > 5000\n",
    "alt.data_transformers.disable_max_rows()\n",
    "\n",
    "lin_scale = alt.Scale(\n",
    "    domain=[2,6],\n",
    "    range=['white', 'blue'],\n",
    "    type='linear'\n",
    ")\n",
    "\n",
    "log_scale = alt.Scale(\n",
    "    domain=[1, 1000000],\n",
    "    range=['white', 'blue'],\n",
    "    type='log'\n",
    ")\n",
    "\n",
    "plot_df = cms_google_org_ratings_payments_pddf\n",
    "\n",
    "#payments are in logarithmic scale to account for outliers\n",
    "prfrate_ratings_chart = alt.Chart(\n",
    "    cms_google_org_ratings_payments_pddf.sample(5000),\n",
    "    title='Performance Rating vs. Google Rating vs. Payment per Physician'\n",
    ").mark_circle().encode(\n",
    "    x=alt.X('adjusted_ratings:Q', title='Google Rating (adj.)', scale=alt.Scale(domain=[1.5, 5.0])),\n",
    "    y=alt.Y('prf_rate:Q', title='Performance Rating'),\n",
    "    size=alt.Size('payment_normalized:Q', title='Payment per Physician',\n",
    "                  scale=alt.Scale(type='log', domain=[0.1, 1000000], range=[0.1, 150])),\n",
    "    color=alt.Color('payment_normalized:Q',\n",
    "                    title='Payment per Physician',\n",
    "                    scale = alt.Scale(domain=[0.1, 1000000], range=['white', 'blue'], type='log')),\n",
    "    opacity=alt.Opacity('payment_normalized:Q',\n",
    "                       scale = alt.Scale(domain=[0.1, 1000000], range=[0.1, 1], type='log'))\n",
    "    #color=alt.Color('payment_log:Q', scale=scale),\n",
    "    #size=alt.Size('payment_log:Q')\n",
    ").properties(width=600,height=600)\n",
    "prfrate_ratings_chart"
   ]
  },
  {
   "cell_type": "code",
   "execution_count": null,
   "metadata": {},
   "outputs": [],
   "source": [
    "starval_payments_chart = alt.Chart(cms_google_org_ratings_payments_pddf.dropna().sample(5000)).mark_point().encode(\n",
    "    x=alt.X('star_value:Q'),\n",
    "    y=alt.Y('payment_normalized:Q',scale=alt.Scale(type='log'))\n",
    ")\n",
    "starval_payments_chart"
   ]
  },
  {
   "cell_type": "code",
   "execution_count": null,
   "metadata": {},
   "outputs": [],
   "source": [
    "plot_pddf = cms_google_org_ratings_payments_pddf.dropna()\n",
    "plot_pddf = plot_pddf[plot_pddf['adjusted_ratings'] > 2.0].sample(2000)\n",
    "plot_pddf = plot_pddf[plot_pddf['payment_normalized'] > 10]\n",
    "plot_pddf = plot_pddf[plot_pddf['payment_normalized'] < 1000000]\n",
    "\n",
    "payments_google_ratings_chart =  alt.Chart(plot_pddf).mark_point().encode(\n",
    "    x=alt.X('payment_normalized:Q', title='Payment per Physician (USD)',\n",
    "            scale=alt.Scale(type='log', domain=[10, 1000000]),\n",
    "            axis=alt.Axis(titleColor='orange')),\n",
    "    y=alt.Y('adjusted_ratings:Q', title='Google Rating (adj.)',\n",
    "            scale=alt.Scale(domain=[2, 5]),\n",
    "            axis=alt.Axis(titleColor='blue'))\n",
    ").properties(width=200,height=200)\n",
    "payments_google_ratings_chart"
   ]
  },
  {
   "cell_type": "code",
   "execution_count": null,
   "metadata": {},
   "outputs": [],
   "source": [
    "plot_pddf = cms_google_org_ratings_payments_pddf.dropna()\n",
    "plot_pddf = plot_pddf[plot_pddf['adjusted_ratings'] > 2.0].sample(2000)\n",
    "\n",
    "mips_google_ratings_chart = alt.Chart(plot_pddf).mark_point().encode(\n",
    "    x=alt.X('prf_rate:Q', title='Average MIPS Performance Rating',\n",
    "            scale=alt.Scale(domain=[0, 100]),\n",
    "            axis=alt.Axis(titleColor='green')),\n",
    "    y=alt.Y('adjusted_ratings:Q', title='Google Rating (adj.)',\n",
    "            scale=alt.Scale(domain=[2, 5]),\n",
    "            axis=alt.Axis(titleColor='blue'))\n",
    ").properties(width=200,height=200)\n",
    "mips_google_ratings_chart\n",
    "payments_mips_ratings_chart | payments_google_ratings_chart | mips_google_ratings_chart"
   ]
  },
  {
   "cell_type": "code",
   "execution_count": null,
   "metadata": {},
   "outputs": [],
   "source": [
    "#'Preventive Care and Screening'\n",
    "\n",
    "plot_pddf = spark.read.options(header='True').csv(BASE_DIR + 'data_processing/ratings/cms_org_payments_ratings.csv',schema=cms_org_ratings_payments_schema)\n",
    "plot_pddf = plot_pddf.filter(plot_pddf.measure_title.startswith('Preventive Care and Screening'))\n",
    "\n",
    "plot_pddf = plot_pddf.groupBy(\"org_pac_id\", \"org_nm\")\\\n",
    "   .agg(F.avg(\"prf_rate\").alias(\"prf_rate\"),\n",
    "      F.avg(\"star_value\").alias(\"star_value\"),\n",
    "      F.avg(\"count_of_doctors\").alias(\"count_of_doctors\"),\n",
    "      F.avg(\"payment_amount\").alias(\"payment_amount\"),\n",
    "     F.avg(\"payment_normalized\").alias(\"payment_normalized\"))\n",
    "\n",
    "plot_pddf = plot_pddf.join(on='org_pac_id', other=google_org_ratings_df)\n",
    "\n",
    "plot_pddf = plot_pddf.toPandas().dropna()\n",
    "plot_pddf = plot_pddf[plot_pddf['adjusted_ratings'] > 2.0].sample(2000)\n",
    "\n",
    "preventative_mips_google_ratings_chart = alt.Chart(\n",
    "    plot_pddf\n",
    ").mark_point().encode(\n",
    "    x=alt.X('prf_rate:Q', title='Average Preventative MIPS Rating',\n",
    "            scale=alt.Scale(domain=[0, 100]),\n",
    "            axis=alt.Axis(titleColor='green')),\n",
    "    y=alt.Y('adjusted_ratings:Q', title='Google Rating (adj.)',\n",
    "            scale=alt.Scale(domain=[2, 5]),\n",
    "            axis=alt.Axis(titleColor='blue'))\n",
    ").properties(width=200,height=200)\n",
    "preventative_mips_google_ratings_chart"
   ]
  },
  {
   "cell_type": "code",
   "execution_count": null,
   "metadata": {},
   "outputs": [],
   "source": [
    "mean_payments_norm = cms_google_org_ratings_payments_pddf[\"payment_normalized\"].mean()\n",
    "print(mean_payments_norm)\n",
    "mean_payments = cms_google_org_ratings_payments_pddf[\"payment_amount\"].mean()\n",
    "print(mean_payments)"
   ]
  },
  {
   "cell_type": "code",
   "execution_count": null,
   "metadata": {},
   "outputs": [],
   "source": [
    "median_payments_norm = cms_google_org_ratings_payments_pddf[\"payment_normalized\"].median()\n",
    "print(median_payments_norm)\n",
    "median_payments = cms_google_org_ratings_payments_pddf[\"payment_amount\"].median()\n",
    "print(median_payments)"
   ]
  },
  {
   "cell_type": "code",
   "execution_count": null,
   "metadata": {},
   "outputs": [],
   "source": [
    "above_median_pn= cms_google_org_ratings_payments_pddf[cms_google_org_ratings_payments_pddf[\"payment_normalized\"] > median_payments_norm]\n",
    "print(len(above_median_pn))\n",
    "above_median = cms_google_org_ratings_payments_pddf[cms_google_org_ratings_payments_pddf[\"payment_amount\"] > median_payments]\n",
    "print(len(above_median))\n",
    "below_median_pn= cms_google_org_ratings_payments_pddf[cms_google_org_ratings_payments_pddf[\"payment_normalized\"] < median_payments_norm]\n",
    "print(len(below_median_pn))\n",
    "below_median = cms_google_org_ratings_payments_pddf[cms_google_org_ratings_payments_pddf[\"payment_amount\"] < median_payments]\n",
    "print(len(below_median))"
   ]
  },
  {
   "cell_type": "code",
   "execution_count": null,
   "metadata": {},
   "outputs": [],
   "source": [
    "above_mean_pn= cms_google_org_ratings_payments_pddf[cms_google_org_ratings_payments_pddf[\"payment_normalized\"] > mean_payments_norm]\n",
    "print(len(above_mean_pn))\n",
    "above_mean = cms_google_org_ratings_payments_pddf[cms_google_org_ratings_payments_pddf[\"payment_amount\"] > mean_payments]\n",
    "print(len(above_mean))\n",
    "below_mean_pn= cms_google_org_ratings_payments_pddf[cms_google_org_ratings_payments_pddf[\"payment_normalized\"] < mean_payments_norm]\n",
    "print(len(below_mean_pn))\n",
    "below_mean = cms_google_org_ratings_payments_pddf[cms_google_org_ratings_payments_pddf[\"payment_amount\"] < mean_payments]\n",
    "print(len(below_mean))"
   ]
  },
  {
   "cell_type": "code",
   "execution_count": null,
   "metadata": {},
   "outputs": [],
   "source": [
    "print(above_median_pn['adjusted_ratings'].mean())\n",
    "print(above_median['adjusted_ratings'].mean())\n",
    "print(below_median_pn['adjusted_ratings'].mean())\n",
    "print(below_median['adjusted_ratings'].mean())\n",
    "print(above_mean_pn['adjusted_ratings'].mean())\n",
    "print(above_mean['adjusted_ratings'].mean())\n",
    "print(below_mean_pn['adjusted_ratings'].mean())\n",
    "print(below_mean['adjusted_ratings'].mean())"
   ]
  },
  {
   "cell_type": "code",
   "execution_count": null,
   "metadata": {},
   "outputs": [],
   "source": [
    "print(above_median_pn['adjusted_ratings'].median())\n",
    "print(above_median['adjusted_ratings'].median())\n",
    "print(below_median_pn['adjusted_ratings'].median())\n",
    "print(below_median['adjusted_ratings'].median())\n",
    "print(above_mean_pn['adjusted_ratings'].median())\n",
    "print(above_mean['adjusted_ratings'].median())\n",
    "print(below_mean_pn['adjusted_ratings'].median())\n",
    "print(below_mean['adjusted_ratings'].median())"
   ]
  },
  {
   "cell_type": "code",
   "execution_count": null,
   "metadata": {},
   "outputs": [],
   "source": [
    "#2019 payments file\n",
    "general_payments_df = spark.read.option(\"header\",True)\\\n",
    "    .csv(BASE_DIR + 'OP_DTL_GNRL_PGYR2019_P06302021.csv')\n",
    "\n",
    "\n",
    "hcp_payments_df = general_payments_df.where(\n",
    "    F.col('Covered_Recipient_Type') == 'Covered Recipient Physician')\\\n",
    "    .select(F.col('Physician_Profile_ID'),\n",
    "           F.col('Physician_First_Name'),\n",
    "           F.col('Physician_Middle_Name'),\n",
    "           F.col('Physician_Last_Name'),\n",
    "           F.col('Recipient_Primary_Business_Street_Address_Line1'),\n",
    "           F.col('Recipient_State'),\n",
    "           F.col('Recipient_City'),\n",
    "           F.col('Recipient_Zip_Code'),\n",
    "           F.col('Total_Amount_of_Payment_USDollars'))\n",
    "# changing payment column to double\n",
    "hcp_payments_df = hcp_payments_df.withColumn(\"Total_Amount_of_Payment_USDollars\",hcp_payments_df[\"Total_Amount_of_Payment_USDollars\"].cast('double'))\n",
    "#sum payment column for each healthcare provider\n",
    "hcp_payments_df = hcp_payments_df.groupBy('Physician_Profile_ID').agg(F.sum('Total_Amount_of_Payment_USDollars').alias(\"sum_payment\"))\n",
    "\n",
    "#mapping file\n",
    "ppi_npi_matches_df_schema = StructType([\n",
    "    StructField(\"FirstName\", StringType(), True),\n",
    "    StructField(\"LastName\", StringType(), True),\n",
    "    StructField(\"NPI\", StringType(), True),\n",
    "    StructField(\"Physician_Profile_ID\", StringType(), True),\n",
    "    StructField(\"Score\", FloatType(), True),\n",
    "    StructField(\"NatAddr\", StringType(), True),\n",
    "    StructField(\"AddrScore\", FloatType(), True),\n",
    "    StructField(\"SupplAddr\", StringType(), True),\n",
    "    StructField(\"NatStateCity\", StringType(), True),\n",
    "    StructField(\"StateCityScore\", FloatType(), True),\n",
    "    StructField(\"SupplStateCity\", StringType(), True),\n",
    "    StructField(\"NatTaxonomy\", StringType(), True),\n",
    "    StructField(\"TaxonomyScore\", FloatType(), True),\n",
    "    StructField(\"SupplTaxonomy\", StringType(), True),\n",
    "    StructField(\"NatMiddleName\", StringType(), True),\n",
    "    StructField(\"MiddleNameScore\", FloatType(), True),\n",
    "    StructField(\"SupplMiddleName\", StringType(), True)])\n",
    "\n",
    "ppi_npi_matches_df = spark.read\\\n",
    "    .csv(BASE_DIR + 'data_processing/filtered_out/filtered_hcp_matches.csv',header=False, schema=ppi_npi_matches_df_schema)\n",
    "\n",
    "# join payments file with mapping file to filter out physicians that don't have payment information\n",
    "\n",
    "hcp_payments_df = hcp_payments_df.join(on='Physician_Profile_ID', other=ppi_npi_matches_df)\n",
    "\n",
    "\n",
    "\n",
    "#We obtain the organization for each physican from PhysicianComparePhoneNumberFile.csv\n",
    "\n",
    "npi_df = spark.read.option(\"header\",True)\\\n",
    "    .csv(BASE_DIR + 'PhysicianComparePhoneNumberFile.csv')\\\n",
    "    .withColumnRenamed(\" NPI\", \"NPI\")\\\n",
    "    .withColumnRenamed(\" org_pac_id\", \"org_pac_id\")\\\n",
    "    .withColumnRenamed(' phn_numbr', 'phn_numbr')\\\n",
    "    .withColumnRenamed(\" frst_nm\", \"f_name\")\\\n",
    "    .withColumnRenamed(\" lst_nm\", \"l_name\")\\\n",
    "    .withColumnRenamed(\" mid_nm\", \"m_name\")\\\n",
    "    .withColumnRenamed(\" adr_ln_1\", \"adr_ln_1\")\\\n",
    "    .withColumnRenamed(\" adr_ln_2\", \"adr_ln_2\")\\\n",
    "    .withColumnRenamed(\" pri_spec\", \"pri_spec\")\\\n",
    "    .withColumnRenamed(\" st\", \"st\")\\\n",
    "    .withColumnRenamed(\" cty\", \"cty\")\\\n",
    "    .withColumnRenamed(\" zip\", \"zip\")\n",
    "\n",
    "#joining the organization with payments and physican information\n",
    "hcp_cms_org_payments_df = hcp_payments_df.join(on='NPI', other=npi_df)\n",
    "hcp_cms_org_payments_df.show(truncate=False)\n",
    "hcp_cms_org_payments_df.columns"
   ]
  },
  {
   "cell_type": "code",
   "execution_count": null,
   "metadata": {},
   "outputs": [],
   "source": [
    "#selecting only organization and total payment information from the merged file\n",
    "\n",
    "#hcp_cms_org_payments_df = hcp_cms_org_payments_df.select(F.col('org_pac_id'),F.col('st'),F.substring('zip', 1,5).alias('zip'))\n",
    "hcp_cms_org_payments_df = hcp_cms_org_payments_df.select(F.col('org_pac_id'),F.col('st'))\n",
    "\n",
    "hcp_cms_org_payments_df = hcp_cms_org_payments_df.dropna()\n",
    "hcp_cms_org_payments_df.dropDuplicates().show()"
   ]
  },
  {
   "cell_type": "code",
   "execution_count": null,
   "metadata": {},
   "outputs": [],
   "source": [
    "above_mean_pn.head(10)"
   ]
  },
  {
   "cell_type": "code",
   "execution_count": null,
   "metadata": {},
   "outputs": [],
   "source": [
    "org_outlier_lst= above_mean_pn[\"org_pac_id\"].tolist()\n",
    "print(len(org_outlier_lst))"
   ]
  },
  {
   "cell_type": "code",
   "execution_count": null,
   "metadata": {},
   "outputs": [],
   "source": [
    "outlier_info_df = hcp_cms_org_payments_df[hcp_cms_org_payments_df['org_pac_id'].isin(org_outlier_lst)]\n",
    "#outlier_info_df.show()\n",
    "outlier_info_pdf = outlier_info_df.toPandas()\n",
    "outlier_df = outlier_info_pdf.drop_duplicates()\n"
   ]
  },
  {
   "cell_type": "code",
   "execution_count": null,
   "metadata": {},
   "outputs": [],
   "source": [
    "outlier_df = pd.merge(outlier_df, above_mean_pn, on='org_pac_id', how='inner')\n",
    "outlier_df.head(10)"
   ]
  },
  {
   "cell_type": "code",
   "execution_count": null,
   "metadata": {},
   "outputs": [],
   "source": [
    "outlier_plot_df = outlier_df.sort_values(by='payment_normalized', ascending=False)\n",
    "outlier_plot_df = outlier_df.head(20)\n",
    "scale = alt.Scale(\n",
    "    domain=[2,4.5],\n",
    "    range=['pink', 'green'],\n",
    "    type='linear'\n",
    ")\n",
    "\n",
    "alt.Chart(outlier_plot_df, title='Highest Paid Organizations').mark_bar().encode(\n",
    "    x=alt.X('payment_normalized:Q', title='Payment per Physician'),\n",
    "    y=alt.Y(\"org_nm:N\", sort='-x', title=None),\n",
    "    color=alt.Color('adjusted_ratings:Q', scale=scale, title='Google Rating (adj.)'),\n",
    ").configure_axis(labelLimit=400).properties(height=200)"
   ]
  },
  {
   "cell_type": "code",
   "execution_count": null,
   "metadata": {},
   "outputs": [],
   "source": [
    "#below_mean_pn = below_mean_pn.sort_values(by='payment_normalized', ascending=False)\n",
    "below_mean_pn_50 = below_mean_pn.sample(20)\n",
    "scale = alt.Scale(\n",
    "    domain=[1,5],\n",
    "    range=['pink', 'green'],\n",
    "    type='linear'\n",
    ")\n",
    "\n",
    "alt.Chart(below_mean_pn_50, title='Organizations by Payment (Sample of Bottom 50%)').mark_bar().encode(\n",
    "    x=alt.X('payment_normalized:Q', title='Payment per Physician'),\n",
    "    y=alt.Y(\"org_nm:N\", sort='-x', title=None),\n",
    "    color=alt.Color('adjusted_ratings:Q', scale=scale, title='Google Rating (adj.)'),\n",
    ").configure_axis(labelLimit=400).properties(height=300)"
   ]
  },
  {
   "cell_type": "code",
   "execution_count": null,
   "metadata": {},
   "outputs": [],
   "source": []
  }
 ],
 "metadata": {
  "kernelspec": {
   "display_name": "Python 3 (ipykernel)",
   "language": "python",
   "name": "python3"
  },
  "language_info": {
   "codemirror_mode": {
    "name": "ipython",
    "version": 3
   },
   "file_extension": ".py",
   "mimetype": "text/x-python",
   "name": "python",
   "nbconvert_exporter": "python",
   "pygments_lexer": "ipython3",
   "version": "3.10.10"
  }
 },
 "nbformat": 4,
 "nbformat_minor": 4
}
