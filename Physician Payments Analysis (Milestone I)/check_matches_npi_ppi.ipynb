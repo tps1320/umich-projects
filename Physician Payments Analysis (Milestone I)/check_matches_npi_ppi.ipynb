{
 "cells": [
  {
   "cell_type": "code",
   "execution_count": 1,
   "id": "457dafd8",
   "metadata": {},
   "outputs": [],
   "source": [
    "BASE_DIR='/home/thanuja/Dropbox/coursera/Milestone1/data/'"
   ]
  },
  {
   "cell_type": "code",
   "execution_count": 2,
   "id": "841a3c50",
   "metadata": {},
   "outputs": [],
   "source": [
    "from pyspark.sql import SparkSession\n",
    "import pyspark.sql.functions as F\n",
    "from pyspark.sql.functions import *\n",
    "from itertools import chain\n",
    "from pyspark.sql import types as t\n",
    "import numpy as np\n",
    "from sklearn.feature_extraction.text import TfidfVectorizer, CountVectorizer\n",
    "from sklearn.metrics.pairwise import cosine_similarity\n",
    "from pyspark.sql.types import StructType, StructField, StringType, IntegerType, FloatType\n",
    "import pandas as pd"
   ]
  },
  {
   "cell_type": "code",
   "execution_count": 3,
   "id": "3fde0ad9",
   "metadata": {},
   "outputs": [],
   "source": [
    "#pyspark initialization\n",
    "spark = SparkSession \\\n",
    "    .builder \\\n",
    "    .master(\"local[*]\") \\\n",
    "    .config(\"spark.driver.memory\", \"8g\") \\\n",
    "    .appName('cms_physicians_analysis') \\\n",
    "    .getOrCreate()\n",
    "sc = spark.sparkContext"
   ]
  },
  {
   "cell_type": "code",
   "execution_count": 4,
   "id": "099b2753",
   "metadata": {
    "scrolled": false
   },
   "outputs": [
    {
     "name": "stdout",
     "output_type": "stream",
     "text": [
      "+----------+-----+\n",
      "|       NPI|count|\n",
      "+----------+-----+\n",
      "|1982613865|    2|\n",
      "|1659786481|    2|\n",
      "|1588922215|    2|\n",
      "|1285603423|    2|\n",
      "|1154484657|    2|\n",
      "|1396795720|    2|\n",
      "|1699782524|    2|\n",
      "|1417009242|    2|\n",
      "|1710072491|    2|\n",
      "|1952460917|    2|\n",
      "|1174520126|    2|\n",
      "|1528453438|    2|\n",
      "|1922186410|    2|\n",
      "|1558351320|    2|\n",
      "|1588640981|    2|\n",
      "|1104997162|    2|\n",
      "|1295129294|    2|\n",
      "|1114412384|    2|\n",
      "|1093815003|    2|\n",
      "|1750575163|    2|\n",
      "+----------+-----+\n",
      "only showing top 20 rows\n",
      "\n",
      "duplicates None\n",
      "duplicate count 2807\n",
      "+----------+---------+---------+-------+----------+--------------------+----------+--------------------+--------------------+--------------+--------------------+--------------------+--------------+--------------------+-------------+---------------+---------------+-----+\n",
      "|       NPI|FirstName| LastName|    PPI|     Score|             NatAddr| AddrScore|           SupplAddr|        NatStateCity|StateCityScore|      SupplStateCity|        NatSpecialty|SpecialtyScore|      SupplSpecialty|NatMiddleName|MiddleNameScore|SupplMiddleName|count|\n",
      "+----------+---------+---------+-------+----------+--------------------+----------+--------------------+--------------------+--------------+--------------------+--------------------+--------------+--------------------+-------------+---------------+---------------+-----+\n",
      "|1013018548|   ROBERT| CAZAYOUX|1306176|       0.5|     852 BELANGER ST|       1.0|     852 BELANGER ST| LA HOUMA 70360 4408|           1.0| LA HOUMA 70360 4408|          174400000X|           0.0|207V00000X 208D00...|    VINCENT V|            0.0|           null|    2|\n",
      "|1013018548|   ROBERT| CAZAYOUX|5698706|0.46650636|     852 BELANGER ST|       1.0|     852 BELANGER ST| LA HOUMA 70360 4408|     0.8660254|      LA HOUMA 70360|          174400000X|           0.0|          207V00000X|    VINCENT V|            0.0|           null|    2|\n",
      "|1013923127|     MARK|  JOHNSON|  46454|       1.0|910 N EISENHOWER AVE|       1.0|910 N EISENHOWER AVE|IA MASON CITY 504...|           1.0|IA MASON CITY 504...|          207R00000X|           1.0|          207R00000X|            C|            1.0|              C|    2|\n",
      "|1013923127|     MARK|  JOHNSON|1399503| 0.5407983|910 N EISENHOWER AVE|       0.0|  4300 W MEMORIAL RD|IA MASON CITY 504...|    0.16319327|OK OKLAHOMA CITY ...|          207R00000X|           1.0|          207R00000X|            C|            1.0|     COPELAND C|    2|\n",
      "|1013931831|   ROBERT|   HUGHES|  91967|       1.0|          36 HOYT ST|       1.0|          36 HOYT ST|CT STAMFORD 06905...|           1.0|CT STAMFORD 06905...|          1223G0001X|           1.0|          1223G0001X|            E|            1.0|              E|    2|\n",
      "|1013931831|   ROBERT|   HUGHES|1317447| 0.3469013|          36 HOYT ST|0.38760516|      6434 SUMMIT ST|CT STAMFORD 06905...|           0.0|MO KANSAS CITY 64113|          1223G0001X|           0.0|2083X0100X 208D00...|            E|            1.0|              E|    2|\n",
      "|1023239001|    JORGE|RODRIGUEZ| 318478|       1.0|   7 CALLE PACHECO S|       1.0|   7 CALLE PACHECO S| PR YAUCO 00698 3507|           1.0| PR YAUCO 00698 3507|          207R00000X|           1.0|          207R00000X|  ALEJANDRO A|            1.0|    A ALEJANDRO|    2|\n",
      "|1023239001|    JORGE|RODRIGUEZ| 609344|0.45887014|   7 CALLE PACHECO S| 0.4431595| 2 CALLE RUIZ BELVIS| PR YAUCO 00698 3507|    0.39232105|PR AGUADILLA 0060...|          207R00000X|           1.0|          207R00000X|  ALEJANDRO A|            0.0|       RAFAEL R|    2|\n",
      "|1023559341|    MARIA|HERNANDEZ|1314458| 0.4653487|27821 S TAMIAMI T...| 0.2797705|        28441 U S 41|FL BONITA SPRINGS...|     0.8745175|FL BONITA SPRINGS...|          122300000X|    0.70710677|122300000X 1223G0...|         null|            0.0|           null|    2|\n",
      "|1023559341|    MARIA|HERNANDEZ|3370317|      0.75|27821 S TAMIAMI T...|       1.0|27821 S TAMIAMI T...|FL BONITA SPRINGS...|           1.0|FL BONITA SPRINGS...|          122300000X|           1.0|          122300000X|         null|            0.0|           null|    2|\n",
      "|1033430277|     SYED|  MAHMOOD|  46048|0.34381378|  520 E 70TH ST FL 4|0.37525514|        201 STATE ST|NY NEW YORK 10021...|           0.0|  PA ERIE 16550 0002|          207RC0000X|           0.0|          207R00000X|            S|            1.0|              S|    2|\n",
      "|1033430277|     SYED|  MAHMOOD| 591869|0.95643055|  520 E 70TH ST FL 4|       1.0|  520 E 70TH ST FL 4|NY NEW YORK 10021...|           1.0|NY NEW YORK 10021...|          207RC0000X|     0.8257221|207RC0000X 207R00...|            S|            1.0|              S|    2|\n",
      "|1043668932|    ELLEN|   MANDEL|1317545| 0.5455633|4401 PENN AVE ENT...|0.31622776|  CHILDRENS HOSPITAL|PA PITTSBURGH 152...|     0.8660254| PA PITTSBURGH 15224|          208000000X|           1.0|207R00000X 208000...|         null|            0.0|          MAY M|    2|\n",
      "|1043668932|    ELLEN|   MANDEL|2591843|      0.75|4401 PENN AVE ENT...|       1.0|4401 PENN AVE ENT...|PA PITTSBURGH 152...|           1.0|PA PITTSBURGH 152...|          208000000X|           1.0|          208000000X|         null|            0.0|           null|    2|\n",
      "|1043787765|  WEIDONG|    HUANG|5697107|      0.75|345 OYSTER POINT ...|       1.0|345 OYSTER POINT ...|CA SOUTH SAN FRAN...|           1.0|CA SOUTH SAN FRAN...|          207ZP0102X|           1.0|          207ZP0102X|         null|            0.0|           null|    2|\n",
      "|1043787765|  WEIDONG|    HUANG|4225519|0.35206208|345 OYSTER POINT ...|       0.0|    5049 LYNBROOK CT|CA SOUTH SAN FRAN...|     0.4082483| CA PLEASANTON 94588|          207ZP0102X|           1.0|          207ZP0102X|         null|            0.0|           null|    2|\n",
      "|1043799844|   ROBERT| SULLIVAN| 862319| 0.3367763| 2185 SOUTH MASON RD| 0.3471052|1147 COAST VILLAG...|MO TOWN & COUNTRY...|           0.0|CA SANTA BARBARA ...|          152W00000X|           1.0|          152W00000X|         D. D|            0.0|              A|    2|\n",
      "|1043799844|   ROBERT| SULLIVAN|4570892|       1.0| 2185 SOUTH MASON RD|       1.0| 2185 SOUTH MASON RD|MO TOWN & COUNTRY...|           1.0|MO TOWN & COUNTRY...|          152W00000X|           1.0|          152W00000X|         D. D|            1.0|              D|    2|\n",
      "|1053306381|    JAMES|   PALMER|   2770|       1.0|2485 HOSPITAL DR ...|       1.0|2485 HOSPITAL DR ...|CA MOUNTAIN VIEW ...|           1.0|CA MOUNTAIN VIEW ...|207W00000X 207WX0...|           1.0|207W00000X 207WX0...|            D|            1.0|              D|    2|\n",
      "|1053306381|    JAMES|   PALMER|1132686|0.41937637|2485 HOSPITAL DR ...|0.29693493|11545 ROLLING HIL...|CA MOUNTAIN VIEW ...|     0.3805706|CA EL CAJON 92020...|207W00000X 207WX0...|           0.0|          207Q00000X|            D|            1.0|        D DUANE|    2|\n",
      "+----------+---------+---------+-------+----------+--------------------+----------+--------------------+--------------------+--------------+--------------------+--------------------+--------------+--------------------+-------------+---------------+---------------+-----+\n",
      "only showing top 20 rows\n",
      "\n"
     ]
    }
   ],
   "source": [
    "schema = StructType([\n",
    "    StructField(\"FirstName\", StringType(), True),\n",
    "    StructField(\"LastName\", StringType(), True),\n",
    "    StructField(\"NPI\", StringType(), True),\n",
    "    StructField(\"PPI\", StringType(), True),\n",
    "    StructField(\"Score\", FloatType(), True),\n",
    "    StructField(\"NatAddr\", StringType(), True),\n",
    "    StructField(\"AddrScore\", FloatType(), True),\n",
    "    StructField(\"SupplAddr\", StringType(), True),\n",
    "    StructField(\"NatStateCity\", StringType(), True),\n",
    "    StructField(\"StateCityScore\", FloatType(), True),\n",
    "    StructField(\"SupplStateCity\", StringType(), True),\n",
    "    StructField(\"NatSpecialty\", StringType(), True),\n",
    "    StructField(\"SpecialtyScore\", FloatType(), True),\n",
    "    StructField(\"SupplSpecialty\", StringType(), True),\n",
    "    StructField(\"NatMiddleName\", StringType(), True),\n",
    "    StructField(\"MiddleNameScore\", FloatType(), True),\n",
    "    StructField(\"SupplMiddleName\", StringType(), True)])\n",
    "\n",
    "hcp_matches = spark.read\\\n",
    "    .csv(BASE_DIR + \"data_processing/matched_out/hcp_matches.csv\", header=False, schema=schema)\n",
    "# we filter the score threshold to be 0.3 and above to eliminate possible mismatches in the mappings.\n",
    "hcp_matches = hcp_matches.filter('Score > 0.3')\n",
    "\n",
    "duplicates = hcp_matches.groupBy('NPI').count().filter('count > 1')\n",
    "print('duplicates', duplicates.withColumn('NPI', concat_ws(' ', duplicates['NPI'])).show())\n",
    "print('duplicate count', duplicates.count())\n",
    "\n",
    "joined = hcp_matches.join(duplicates, on='NPI', how='inner')\n",
    "joined.show(truncate=True)\n",
    "joined.coalesce(1).write.option(\"header\", \"true\").csv(BASE_DIR + \"data_processing/duplicates_out\", sep=',')\n",
    "\n",
    "hcp_matches.coalesce(1).write.option(\"header\", \"true\").csv(BASE_DIR + \"data_processing/filtered_out\", sep=',')"
   ]
  },
  {
   "cell_type": "code",
   "execution_count": null,
   "id": "2b2ad546",
   "metadata": {},
   "outputs": [],
   "source": []
  }
 ],
 "metadata": {
  "kernelspec": {
   "display_name": "Python 3 (ipykernel)",
   "language": "python",
   "name": "python3"
  },
  "language_info": {
   "codemirror_mode": {
    "name": "ipython",
    "version": 3
   },
   "file_extension": ".py",
   "mimetype": "text/x-python",
   "name": "python",
   "nbconvert_exporter": "python",
   "pygments_lexer": "ipython3",
   "version": "3.8.10"
  }
 },
 "nbformat": 4,
 "nbformat_minor": 5
}
