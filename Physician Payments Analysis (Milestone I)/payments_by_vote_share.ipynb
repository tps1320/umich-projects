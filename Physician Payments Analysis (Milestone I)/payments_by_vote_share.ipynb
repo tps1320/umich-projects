{
 "cells": [
  {
   "cell_type": "code",
   "execution_count": null,
   "metadata": {},
   "outputs": [],
   "source": [
    "import pandas as pd\n",
    "import numpy as np\n",
    "import altair as alt\n",
    "pd.set_option(\"display.max_columns\", None)\n",
    "pd.set_option('display.max_colwidth', None)\n",
    "pd.set_option('display.max_rows', 200)"
   ]
  },
  {
   "cell_type": "code",
   "execution_count": null,
   "metadata": {},
   "outputs": [],
   "source": [
    "BASE_DIR = '/home/thanuja/Dropbox/coursera/Milestone1/data/'"
   ]
  },
  {
   "cell_type": "code",
   "execution_count": null,
   "metadata": {},
   "outputs": [],
   "source": [
    "#votes by zip\n",
    "votes_df = pd.read_csv(BASE_DIR + 'data_processing/vote_share/votes_by_zip.csv')\n",
    "votes_df"
   ]
  },
  {
   "cell_type": "code",
   "execution_count": null,
   "metadata": {},
   "outputs": [],
   "source": [
    "#physican payments 2019 file columns subset\n",
    "payment_cols = ['Physician_Profile_ID', 'Recipient_State', 'Recipient_City', 'Recipient_Zip_Code', 'Total_Amount_of_Payment_USDollars']\n",
    "general_payments_df = pd.read_csv(BASE_DIR + 'OP_DTL_GNRL_PGYR2019_P06302021.csv',usecols=payment_cols, low_memory=True)\n",
    "\n",
    "#extract 5 digit zip as float and do dropna and then convert it to int\n",
    "general_payments_df['ZIP'] = general_payments_df['Recipient_Zip_Code'].str.slice(stop=5).astype(np.float32)\n",
    "general_payments_df.dropna(inplace=True)\n",
    "general_payments_df['ZIP'] = general_payments_df['ZIP'].astype(np.int32)\n",
    "general_payments_df.drop(columns=['Recipient_Zip_Code'], inplace=True)\n",
    "#rename columns\n",
    "general_payments_df.rename(columns={'Recipient_City': 'City', 'Recipient_State': 'State'}, inplace=True)\n",
    "general_payments_df['City'] = general_payments_df['City'].str.upper()\n",
    "general_payments_df"
   ]
  },
  {
   "cell_type": "code",
   "execution_count": null,
   "metadata": {},
   "outputs": [],
   "source": [
    "#col : cost of living\n",
    "# read csv that has col adjustments by city and state\n",
    "col_df = pd.read_csv(BASE_DIR + 'advisorsmith_cost_of_living_index.csv')\n",
    "col_df.rename(columns={'Cost of Living Index': 'city_col'}, inplace=True)\n",
    "col_df['City'] = col_df['City'].str.upper()\n",
    "\n",
    "#take average of city col to get state col\n",
    "col_state_df = col_df.groupby('State', as_index=False).mean()\n",
    "col_state_df.rename(columns={'city_col': 'state_col'}, inplace=True)\n",
    "\n",
    "#merge payments with city col and then drop 'City'\n",
    "general_payments_adjusted_df = general_payments_df.merge(col_df, on=['State', 'City'], how='left')\n",
    "general_payments_adjusted_df.drop(columns=['City'], inplace=True)\n",
    "#merge payments with stat col and then drop 'State'\n",
    "general_payments_adjusted_df = general_payments_adjusted_df.merge(col_state_df, on=['State'], how='left')\n",
    "general_payments_adjusted_df.drop(columns=['State'], inplace=True)\n",
    "\n",
    "#populate col with city_col and with state_col when city_col is not available\n",
    "general_payments_adjusted_df['col'] = general_payments_adjusted_df['city_col'].combine_first(general_payments_adjusted_df['state_col']) / 100.0\n",
    "general_payments_adjusted_df.drop(columns=['state_col', 'city_col'], inplace=True)\n",
    "#general_payments_adjusted_df.fillna(1.0, inplace=True)\n",
    "general_payments_adjusted_df = general_payments_adjusted_df.fillna({'col':1.0})\n",
    "#adjusted payments after taking into account col\n",
    "general_payments_adjusted_df['adjusted_payment'] =\\\n",
    "    general_payments_adjusted_df['Total_Amount_of_Payment_USDollars'] / general_payments_adjusted_df['col']\n",
    "general_payments_adjusted_df\n",
    "print(general_payments_adjusted_df.dtypes)\n",
    "ft = general_payments_adjusted_df[general_payments_adjusted_df['ZIP']==601]\n",
    "ft"
   ]
  },
  {
   "cell_type": "code",
   "execution_count": null,
   "metadata": {},
   "outputs": [],
   "source": [
    "#merge payments with votes on zip\n",
    "payment_per_physician_by_zip_df=general_payments_adjusted_df.groupby(['Physician_Profile_ID','ZIP'])['adjusted_payment'].agg('sum').reset_index()\n",
    "payment_per_physician_by_zip_df\n",
    "\n",
    "zip_payments_df = payment_per_physician_by_zip_df.groupby('ZIP').agg(\n",
    "    num_physicians=pd.NamedAgg(column='Physician_Profile_ID', aggfunc=len),\n",
    "    avg_payment=pd.NamedAgg(column='adjusted_payment', aggfunc=np.mean)\n",
    ")\n",
    "\n",
    "'''\n",
    "num_physicians_by_zip=payment_per_physician_by_zip_df.groupby(['ZIP'])['Physician_Profile_ID'].agg('count').reset_index(name=\"num_physicians\")\n",
    "num_physicians_by_zip\n",
    "num_payments_by_zip=payment_per_physician_by_zip_df.groupby(['ZIP'])['adjusted_payment'].agg('sum').reset_index(name=\"payment\")\n",
    "num_payments_by_zip\n",
    "zip_payments_df = num_payments_by_zip.merge(num_physicians_by_zip, on='ZIP')\n",
    "zip_payments_df['avg_payment'] = zip_payments_df['payment']/zip_payments_df['num_physicians']\n",
    "zip_payments_df\n",
    "'''\n",
    "zip_payments_df['lg_payments'] = np.log10(zip_payments_df['avg_payment'])\n",
    "#zip_payments_df['avg_payment'].plot(kind='hist')\n",
    "#zip_payments_df.head(10)\n",
    "bins = np.linspace(start=0, stop=6, num=20)\n",
    "print('bins', bins)\n",
    "histogram = pd.cut(zip_payments_df['lg_payments'], bins=bins).value_counts()\n",
    "print(histogram)\n",
    "\n",
    "#print('***', histogram[0])\n",
    "cut_offs = [2.526,2.211,2.842,3.158,1.895,3.474,1.579,3.789,1.263,4.105,4.421,4.737,5.053,0.947,5.368,5.684,0.632]\n",
    "zip_counts = [2806,2779,2105,1896,1596,1263,890,885,311,125,47,26,16,7,3,2]\n",
    "label_cut_offs = \n",
    "\n",
    "alt.Chart(zip_payments_df.sample(5000)).mark_bar().encode(\n",
    "    alt.X(\"lg_payments:Q\",\n",
    "          #scale=alt.Scale(type='log'), # bin=True), #alt.Bin(maxbins=20)),\n",
    "          bin=alt.Bin(extent=[0, 6], maxbins=20, step=0.2)), #bin=alt.Bin(extent=[100, 6000], maxbins=20, step=0.1)),\n",
    "    y='count()'\n",
    ")\n",
    "#zip_payments_df['lg_payments'].plot(kind='hist')"
   ]
  },
  {
   "cell_type": "code",
   "execution_count": null,
   "metadata": {},
   "outputs": [],
   "source": [
    "alt.data_transformers.enable(max_rows=None)\n",
    "vote_payments_adj_df = payment_per_physician_by_zip_df.copy()\n",
    "# total payments per physician vs percentage of democrat vote\n",
    "alt.Chart(vote_payments_adj_df.sample(n=1000)).mark_circle(size=10).encode(\n",
    "    x='DEMOCRAT',\n",
    "    y=alt.Y('adjusted_payment', scale=alt.Scale(type='log'))\n",
    ")\n",
    "\n",
    "print(vote_payments_adj_df['adjusted_payment'].mean())\n",
    "vote_payments_adj_df['adjusted_payment'].median()\n",
    "vote_payments_adj_df['adjusted_payment'].max()\n",
    "vote_payments_adj_df['adjusted_payment'].min()\n",
    "vote_payments_adj_df = vote_payments_adj_df.sort_values(by ='adjusted_payment',ascending=False)\n",
    "vote_payments_adj_df.head(50)"
   ]
  },
  {
   "cell_type": "code",
   "execution_count": null,
   "metadata": {},
   "outputs": [],
   "source": [
    "alt.data_transformers.enable(max_rows=None)\n",
    "alt.Chart(zip_payments_df).mark_bar().encode(\n",
    "   alt.X(\"adjusted_payment:Q\", bin = True),\n",
    "   y = 'count()'\n",
    ")"
   ]
  },
  {
   "cell_type": "code",
   "execution_count": null,
   "metadata": {},
   "outputs": [],
   "source": [
    "#merge payments with votes on zip\n",
    "vote_payments_df = general_payments_df.merge(votes_df, on='ZIP')\n",
    "vote_payments_df"
   ]
  },
  {
   "cell_type": "code",
   "execution_count": null,
   "metadata": {},
   "outputs": [],
   "source": [
    "alt.data_transformers.enable(max_rows=None)\n",
    "# total payments per physician vs percentage of democrat vote\n",
    "alt.Chart(vote_payments_df.sample(frac=0.01)).mark_circle(size=10).encode(\n",
    "    x='DEMOCRAT',\n",
    "    y=alt.Y('Total_Amount_of_Payment_USDollars', scale=alt.Scale(type='log'))\n",
    ")"
   ]
  },
  {
   "cell_type": "code",
   "execution_count": null,
   "metadata": {},
   "outputs": [],
   "source": [
    "#payments subset for state cols\n",
    "state_cols = ['Recipient_State', 'Physician_Profile_ID', 'Total_Amount_of_Payment_USDollars']\n",
    "state_payments_df = pd.read_csv(BASE_DIR + 'OP_DTL_GNRL_PGYR2019_P06302021.csv',\n",
    "                                  usecols=state_cols, low_memory=True)\n",
    "state_payments_df"
   ]
  },
  {
   "cell_type": "code",
   "execution_count": null,
   "metadata": {},
   "outputs": [],
   "source": [
    "#group by state and physician to get payment per physician in that state\n",
    "grouped_state_payments_df = state_payments_df.groupby(['Recipient_State', 'Physician_Profile_ID'], as_index=False).sum()\n",
    "#get average doctor payments per state\n",
    "state_average_payments_df = grouped_state_payments_df.groupby('Recipient_State', as_index=False).mean()\n",
    "state_average_payments_df"
   ]
  },
  {
   "cell_type": "code",
   "execution_count": null,
   "metadata": {},
   "outputs": [],
   "source": [
    "#state vote share\n",
    "state_vote_share_df = pd.read_csv(BASE_DIR + 'data_processing/vote_share/votes_by_state.csv')\n",
    "#merge state vote share with state average payments per physician\n",
    "state_payment_votes_df = state_average_payments_df.merge(state_vote_share_df, on='Recipient_State')\n",
    "state_payment_votes_df"
   ]
  },
  {
   "cell_type": "code",
   "execution_count": null,
   "metadata": {},
   "outputs": [],
   "source": [
    "#average payments per physcian by state color coded by political party\n",
    "lower_bound = 0.45\n",
    "upper_bound = 0.55\n",
    "\n",
    "scale = alt.Scale(\n",
    "    domain=[lower_bound, upper_bound],\n",
    "    range=['darkred', 'darkblue'],\n",
    "    type='linear'\n",
    ")\n",
    "\n",
    "clipped_df = state_payment_votes_df.copy()\n",
    "clipped_df.loc[clipped_df['DEMOCRAT'] < lower_bound,'DEMOCRAT'] = lower_bound\n",
    "clipped_df.loc[clipped_df['DEMOCRAT'] > upper_bound,'DEMOCRAT'] = upper_bound\n",
    "#clipped_df[clipped_df['DEMOCRAT'] > upper_bound]['DEMOCRAT'] = upper_bound\n",
    "\n",
    "alt.Chart(clipped_df).mark_bar().encode(\n",
    "    x=alt.X('Recipient_State:N', sort='y'),\n",
    "    y='Total_Amount_of_Payment_USDollars:Q',\n",
    "    color=alt.Color('DEMOCRAT', scale=scale)\n",
    ").properties(width=700)"
   ]
  }
 ],
 "metadata": {
  "kernelspec": {
   "display_name": "Python 3 (ipykernel)",
   "language": "python",
   "name": "python3"
  },
  "language_info": {
   "codemirror_mode": {
    "name": "ipython",
    "version": 3
   },
   "file_extension": ".py",
   "mimetype": "text/x-python",
   "name": "python",
   "nbconvert_exporter": "python",
   "pygments_lexer": "ipython3",
   "version": "3.10.10"
  }
 },
 "nbformat": 4,
 "nbformat_minor": 4
}
